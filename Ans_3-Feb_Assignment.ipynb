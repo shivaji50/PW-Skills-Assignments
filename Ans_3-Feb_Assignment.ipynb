{
 "cells": [
  {
   "cell_type": "code",
   "execution_count": 1,
   "id": "f322f418",
   "metadata": {},
   "outputs": [
    {
     "name": "stdout",
     "output_type": "stream",
     "text": [
      "[1, 3, 5, 7, 9, 11, 13, 15, 17, 19, 21, 23, 25]\n"
     ]
    }
   ],
   "source": [
    "# Answer 1\n",
    "\n",
    "#-- Def keywords is use to create a function.\n",
    "\n",
    "def oddlist():\n",
    "    l = []\n",
    "    for i in range(1,26,2):\n",
    "        l.append(i)\n",
    "        \n",
    "    return l\n",
    "\n",
    "print(oddlist())"
   ]
  },
  {
   "cell_type": "code",
   "execution_count": 5,
   "id": "7e757000",
   "metadata": {},
   "outputs": [
    {
     "name": "stdout",
     "output_type": "stream",
     "text": [
      "30\n",
      "60\n",
      "10\n",
      "\n",
      "rno  =  10 \n",
      "name  =  Shiva rno  =  10 \n",
      "name  =  Shiva rno  =  10 clss  =  BCA \n"
     ]
    }
   ],
   "source": [
    "# Answer 2\n",
    "\n",
    "# Sometimes the programmer does not know how many arguments a function may recieve\n",
    "# wheather 2-3 or many more so to overcome this problem we use *args(variable length arguments)\n",
    "# and **kwargs(kewword variable length arguments) \n",
    "\n",
    "# eg-- *args(variable length arguments)\n",
    "\n",
    "def Sum(*args):\n",
    "    result = 0\n",
    "    \n",
    "    for i in args:\n",
    "        result = result + i\n",
    "        \n",
    "    return result\n",
    "\n",
    "print(Sum(10,20))\n",
    "print(Sum(10,20,30))\n",
    "print(Sum(10))\n",
    "\n",
    "print()\n",
    "\n",
    "# eg-- **kwargs(kewword variable length arguments) \n",
    "\n",
    "def Display(**kwargs):\n",
    "    \n",
    "    for key,value in kwargs.items():\n",
    "        print(key,\" = \",value,end = \" \")\n",
    "    print()    \n",
    "        \n",
    "Display(rno = 10)\n",
    "Display(name = \"Shiva\",rno = 10)\n",
    "Display(name = \"Shiva\",rno = 10,clss = \"BCA\") \n"
   ]
  },
  {
   "cell_type": "code",
   "execution_count": 6,
   "id": "6d93e115",
   "metadata": {},
   "outputs": [
    {
     "name": "stdout",
     "output_type": "stream",
     "text": [
      "2\n",
      "4\n",
      "6\n",
      "8\n",
      "10\n"
     ]
    }
   ],
   "source": [
    "# Answer 3\n",
    "\n",
    "# Iterator in Python is an object that is used to iterate over iterable objects like lists, tuples, dicts,strings \n",
    "# and sets.\n",
    "# The iterator object is initialized using the iter() method. \n",
    "# It uses the next() method for iteration.\n",
    "\n",
    "l = [i for i in range(2,21,2)]\n",
    "lit = iter(l)\n",
    "\n",
    "print(next(lit))\n",
    "print(next(lit))\n",
    "print(next(lit))\n",
    "print(next(lit))\n",
    "print(next(lit))"
   ]
  },
  {
   "cell_type": "code",
   "execution_count": 8,
   "id": "fc46f746",
   "metadata": {},
   "outputs": [
    {
     "name": "stdout",
     "output_type": "stream",
     "text": [
      "1\n",
      "4\n",
      "9\n",
      "16\n",
      "25\n",
      "36\n",
      "49\n",
      "64\n",
      "81\n",
      "100\n"
     ]
    }
   ],
   "source": [
    "# Answer 4\n",
    "# In Python, a generator is a function that returns an iterator \n",
    "# that produces a sequence of values when iterated over.\n",
    "# Generators are useful when we want to produce a large sequence of values,\n",
    "# but we don't want to store all of them in memory at once.\n",
    "# and in generator function we use yeild keyword not return keyword\n",
    "\n",
    "# yield keyword is used to create a generator function\n",
    "\n",
    "def Genum(n):\n",
    "    for i in range(1,n):\n",
    "        yield i\n",
    "       \n",
    "for i in Genum(11):\n",
    "    print(i**2)"
   ]
  },
  {
   "cell_type": "code",
   "execution_count": 1,
   "id": "60c3ded0",
   "metadata": {},
   "outputs": [
    {
     "name": "stdout",
     "output_type": "stream",
     "text": [
      "2\n",
      "3\n",
      "5\n",
      "7\n",
      "11\n",
      "13\n",
      "17\n",
      "19\n",
      "23\n",
      "29\n",
      "31\n",
      "37\n",
      "41\n",
      "43\n",
      "47\n",
      "53\n",
      "59\n",
      "61\n",
      "67\n",
      "71\n"
     ]
    }
   ],
   "source": [
    "# Answer 5\n",
    "\n",
    "def Prime():\n",
    "    flag = True\n",
    "    for i in range(2,1000):\n",
    "        flag = True\n",
    "        for num in range(2,i):\n",
    "            if i%num == 0:\n",
    "                flag = False\n",
    "                break\n",
    "        if flag == True:\n",
    "            yield i\n",
    "            \n",
    "                \n",
    "count = 0                \n",
    "for i in Prime():\n",
    "    print(i)\n",
    "    count = count + 1\n",
    "    if count == 20:\n",
    "        break\n",
    "        "
   ]
  },
  {
   "cell_type": "code",
   "execution_count": 2,
   "id": "907f318b",
   "metadata": {},
   "outputs": [
    {
     "name": "stdout",
     "output_type": "stream",
     "text": [
      "0\n",
      "1\n",
      "1\n",
      "2\n",
      "3\n",
      "5\n",
      "8\n",
      "13\n",
      "21\n",
      "34\n",
      "55\n"
     ]
    }
   ],
   "source": [
    "# Answer 6\n",
    "\n",
    "a = 0\n",
    "b = 1\n",
    "i = 0\n",
    "print(a)\n",
    "while i <10:\n",
    "    a,b = b,a+b\n",
    "    print(a)\n",
    "    i = i +1"
   ]
  },
  {
   "cell_type": "code",
   "execution_count": 3,
   "id": "4adbd533",
   "metadata": {},
   "outputs": [
    {
     "name": "stdout",
     "output_type": "stream",
     "text": [
      "['p', 'w', 's', 'k', 'i', 'l', 'l', 's']\n"
     ]
    }
   ],
   "source": [
    "# Answer 7\n",
    "\n",
    "l = [i for i in \"pwskills\"]\n",
    "print(l)"
   ]
  },
  {
   "cell_type": "code",
   "execution_count": 4,
   "id": "dfb7cb03",
   "metadata": {},
   "outputs": [
    {
     "name": "stdout",
     "output_type": "stream",
     "text": [
      "Enter the number 1001\n",
      "The number is palindrom\n"
     ]
    }
   ],
   "source": [
    "# Answer 8\n",
    "\n",
    "num = int(input(\"Enter the number \"))\n",
    "temp = num\n",
    "rev = 0\n",
    "\n",
    "while num > 0:\n",
    "    digit = num%10\n",
    "    rev = rev * 10 + digit\n",
    "    num = num//10\n",
    "    \n",
    "if rev == temp:\n",
    "    print(\"The number is palindrom\")\n",
    "else:\n",
    "    print(\"The number is not palindrome\")"
   ]
  },
  {
   "cell_type": "code",
   "execution_count": 5,
   "id": "210146b9",
   "metadata": {},
   "outputs": [
    {
     "name": "stdout",
     "output_type": "stream",
     "text": [
      "[1, 3, 5, 7, 9, 11, 13, 15, 17, 19, 21, 23, 25, 27, 29, 31, 33, 35, 37, 39, 41, 43, 45, 47, 49, 51, 53, 55, 57, 59, 61, 63, 65, 67, 69, 71, 73, 75, 77, 79, 81, 83, 85, 87, 89, 91, 93, 95, 97, 99]\n"
     ]
    }
   ],
   "source": [
    "# Answer 9\n",
    "\n",
    "l = [i for i in range(1,101)]\n",
    "lodd = [i for i in l if i%2 != 0]\n",
    "print(lodd)"
   ]
  },
  {
   "cell_type": "code",
   "execution_count": null,
   "id": "32fdde66",
   "metadata": {},
   "outputs": [],
   "source": []
  }
 ],
 "metadata": {
  "kernelspec": {
   "display_name": "Python 3 (ipykernel)",
   "language": "python",
   "name": "python3"
  },
  "language_info": {
   "codemirror_mode": {
    "name": "ipython",
    "version": 3
   },
   "file_extension": ".py",
   "mimetype": "text/x-python",
   "name": "python",
   "nbconvert_exporter": "python",
   "pygments_lexer": "ipython3",
   "version": "3.9.13"
  }
 },
 "nbformat": 4,
 "nbformat_minor": 5
}

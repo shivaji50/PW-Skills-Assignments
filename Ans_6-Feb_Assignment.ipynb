{
 "cells": [
  {
   "cell_type": "code",
   "execution_count": 1,
   "id": "73a53e02",
   "metadata": {},
   "outputs": [
    {
     "name": "stdout",
     "output_type": "stream",
     "text": [
      "4134711838987085478833841242112000\n"
     ]
    }
   ],
   "source": [
    "# Answer 1\n",
    "\n",
    "import functools\n",
    "def product(list1):\n",
    "    nl = []\n",
    "    \n",
    "    for i in list1:\n",
    "        if type(i) == int:\n",
    "            nl.append(i)\n",
    "        else:\n",
    "            if type(i) == list:\n",
    "                for j in i:\n",
    "                    if type(j) == int:\n",
    "                        nl.append(j)\n",
    "            elif type(i) == tuple:\n",
    "                for j in i:\n",
    "                    if type(j) == int:\n",
    "                        nl.append(j)\n",
    "            elif type(i)  == set:\n",
    "                 for j in i:\n",
    "                    if type(j) == int:\n",
    "                        nl.append(j)\n",
    "            elif type(i) == dict:\n",
    "                for k,v in i.items():\n",
    "                    if type(k) == int:\n",
    "                        nl.append(k)\n",
    "                    if type(v) == int:\n",
    "                        nl.append(v)\n",
    "                    if type(v) == list or type(v) == tuple: \n",
    "                        for j in v:\n",
    "                            if type(j) == int:\n",
    "                                nl.append(j)                      \n",
    "    return nl\n",
    "    \n",
    "    \n",
    "list1 = [1,2,3,4, [44,55,66, True], False, (34,56,78,89,34), {1,2,3,3,2,1}, \n",
    "         {1:34, \"key2\": [55, 67, 78, 89], 4: (45,22, 61, 34)}, [56, 'data science'], 'Machine Learning']\n",
    "\n",
    "\n",
    "nl= product(list1)\n",
    "productl = functools.reduce(lambda x,y:x*y,nl)\n",
    "\n",
    "print(productl)\n",
    "    "
   ]
  },
  {
   "cell_type": "code",
   "execution_count": 2,
   "id": "bcda9536",
   "metadata": {},
   "outputs": [
    {
     "name": "stdout",
     "output_type": "stream",
     "text": [
      "I want to become a Data Scientist.\n",
      "r$dzmg$gl$yvxlnv$z$wzgz$hxrvmgrhg.\n"
     ]
    }
   ],
   "source": [
    "# Answer 2\n",
    "\n",
    "st = \"I want to become a Data Scientist.\"\n",
    "print(st)\n",
    "\n",
    "stt = st.lower()\n",
    "\n",
    "ec =\"\"\n",
    "for i in stt.lower():\n",
    "    if i == \" \":\n",
    "        ec=ec+\"$\"\n",
    "    elif i== '.' or i == '?' or i == \",\" or i == \":\" or i == ';':\n",
    "        ec=ec+i\n",
    "    else:\n",
    "        N = ord('a') + ord('z')\n",
    "        ec = ec+chr(N-ord(i))\n",
    "    \n",
    "print(ec) \n",
    "   "
   ]
  },
  {
   "cell_type": "code",
   "execution_count": null,
   "id": "1d398caa",
   "metadata": {},
   "outputs": [],
   "source": []
  }
 ],
 "metadata": {
  "kernelspec": {
   "display_name": "Python 3 (ipykernel)",
   "language": "python",
   "name": "python3"
  },
  "language_info": {
   "codemirror_mode": {
    "name": "ipython",
    "version": 3
   },
   "file_extension": ".py",
   "mimetype": "text/x-python",
   "name": "python",
   "nbconvert_exporter": "python",
   "pygments_lexer": "ipython3",
   "version": "3.9.13"
  }
 },
 "nbformat": 4,
 "nbformat_minor": 5
}

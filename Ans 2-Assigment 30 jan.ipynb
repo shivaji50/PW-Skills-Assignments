{
 "cells": [
  {
   "cell_type": "code",
   "execution_count": 9,
   "id": "bda31665",
   "metadata": {},
   "outputs": [
    {
     "name": "stdout",
     "output_type": "stream",
     "text": [
      "Enter the marks 61\n",
      "C\n"
     ]
    }
   ],
   "source": [
    "# Answer 1\n",
    "\n",
    "Marks = int(input(\"Enter the marks \"))\n",
    "\n",
    "if Marks > 90:\n",
    "    print(\"A\")\n",
    "elif Marks > 80 and Marks <= 90:\n",
    "    print(\"B\")\n",
    "elif Marks >= 60 and Marks <=80:\n",
    "    print(\"C\")\n",
    "else:\n",
    "    print(\"D\")"
   ]
  },
  {
   "cell_type": "code",
   "execution_count": 13,
   "id": "a5a093c8",
   "metadata": {},
   "outputs": [
    {
     "name": "stdout",
     "output_type": "stream",
     "text": [
      "Enter the cost price of the bike in Rs 50000\n",
      "5%\n"
     ]
    }
   ],
   "source": [
    "# Answer 2\n",
    "\n",
    "\n",
    "Cost_price = int(input(\"Enter the cost price of the bike in Rs \"))\n",
    "\n",
    "if Cost_price > 100000:\n",
    "    print(\"15%\")\n",
    "elif Cost_price > 50000 and Cost_price <= 100000:\n",
    "    print(\"10%\")\n",
    "else:\n",
    "    print(\"5%\")"
   ]
  },
  {
   "cell_type": "code",
   "execution_count": 15,
   "id": "9800bea6",
   "metadata": {},
   "outputs": [
    {
     "name": "stdout",
     "output_type": "stream",
     "text": [
      "Enter the city Jaipur\n",
      "Jal Mahal\n"
     ]
    }
   ],
   "source": [
    "# Answer 3\n",
    "\n",
    "City = input(\"Enter the city \")\n",
    "\n",
    "if City == \"Delhi\" or City == \"delhi\":\n",
    "    print(\"Red Fort \")\n",
    "elif City == \"Agra\" or City == \"agra\":\n",
    "    print(\"Taj Mahal\")\n",
    "elif City == \"Jaipur\" or City == \"jaipur\":\n",
    "    print(\"Jal Mahal\")"
   ]
  },
  {
   "cell_type": "code",
   "execution_count": 1,
   "id": "dd0b4bf4",
   "metadata": {},
   "outputs": [
    {
     "name": "stdout",
     "output_type": "stream",
     "text": [
      "Enter the number 18\n",
      "3\n"
     ]
    }
   ],
   "source": [
    "# Answer 4\n",
    "\n",
    "number = int(input(\"Enter the number \"))\n",
    "count = 0\n",
    "\n",
    "while number >= 10:\n",
    "    if number%3 == 0:\n",
    "        count = count+1\n",
    "    number = number - 1\n",
    "    \n",
    "print(count)\n",
    "    "
   ]
  },
  {
   "cell_type": "code",
   "execution_count": 4,
   "id": "9cd0e33e",
   "metadata": {},
   "outputs": [
    {
     "name": "stdout",
     "output_type": "stream",
     "text": [
      "Enter the number 18\n",
      "3\n"
     ]
    }
   ],
   "source": [
    "# Answer 5\n",
    "\n",
    "# A \"While\" Loop is used to repeat a specific block of code an unknown number of times, \n",
    "# until a condition is met.\n",
    "# For example if we dont no how Many times the block need to be executed until its meets its certain \n",
    "# criteria. \n",
    "# like how many times a given number can be divided by 3 before it is less than or equal to 10\n",
    "# so for number like 18 we know the answer is 3 but for bigger number its is very difficult to say in\n",
    "# such cases we use while loop in python\n",
    "\n",
    "# eg---\n",
    "\n",
    "number = int(input(\"Enter the number \"))\n",
    "count = 0\n",
    "\n",
    "while number >= 10:\n",
    "    if number%3 == 0:\n",
    "        count = count+1\n",
    "    number = number - 1\n",
    "    \n",
    "print(count)    "
   ]
  },
  {
   "cell_type": "code",
   "execution_count": 6,
   "id": "f55b8228",
   "metadata": {},
   "outputs": [
    {
     "name": "stdout",
     "output_type": "stream",
     "text": [
      "Enter the number 5\n",
      " * \n",
      " *  * \n",
      " *  *  * \n",
      " *  *  *  * \n",
      " *  *  *  *  * \n"
     ]
    }
   ],
   "source": [
    "#Answer 6--1\n",
    "\n",
    "n = int(input(\"Enter the number \"))\n",
    "i=1\n",
    "while i<=n:\n",
    "    j = 1\n",
    "    while j<=i:\n",
    "        print(\" * \",end=\"\")\n",
    "        j = j+1\n",
    "    i = i+1    \n",
    "    print()"
   ]
  },
  {
   "cell_type": "code",
   "execution_count": 5,
   "id": "7e96cf0c",
   "metadata": {},
   "outputs": [
    {
     "name": "stdout",
     "output_type": "stream",
     "text": [
      "Enter the number 5\n",
      "             * \n",
      "          *  * \n",
      "       *  *  * \n",
      "    *  *  *  * \n",
      " *  *  *  *  * \n"
     ]
    }
   ],
   "source": [
    "# Answe 6--2\n",
    "\n",
    "n = int(input(\"Enter the number \"))\n",
    "i=1\n",
    "while i<=n:\n",
    "    k = (n-1)-i\n",
    "    while k>-1:\n",
    "        print(\"   \",end=\"\")\n",
    "        k=k-1\n",
    "    j = 1\n",
    "    while j<=i:\n",
    "        print(\" * \",end=\"\")\n",
    "        j = j+1\n",
    "    i = i+1    \n",
    "    print()"
   ]
  },
  {
   "cell_type": "code",
   "execution_count": 7,
   "id": "1199baa6",
   "metadata": {},
   "outputs": [
    {
     "name": "stdout",
     "output_type": "stream",
     "text": [
      "Enter the number 5\n",
      " $ $ $ $ *\n",
      " $ $ $ * *\n",
      " $ $ * * *\n",
      " $ * * * *\n",
      " * * * * *\n"
     ]
    }
   ],
   "source": [
    "# Answer 6--3\n",
    "\n",
    "n = int(input(\"Enter the number \"))\n",
    "i=1\n",
    "while i<=n:\n",
    "    k = (n-1)-i\n",
    "    while k>-1:\n",
    "        print(\" $\",end=\"\")\n",
    "        k=k-1\n",
    "    j = 1\n",
    "    while j<=i:\n",
    "        print(\" *\",end=\"\")\n",
    "        j = j+1\n",
    "    i = i+1    \n",
    "    print()"
   ]
  },
  {
   "cell_type": "code",
   "execution_count": 9,
   "id": "ab2df18c",
   "metadata": {
    "scrolled": true
   },
   "outputs": [
    {
     "name": "stdout",
     "output_type": "stream",
     "text": [
      "10\n",
      "9\n",
      "8\n",
      "7\n",
      "6\n",
      "5\n",
      "4\n",
      "3\n",
      "2\n",
      "1\n"
     ]
    }
   ],
   "source": [
    "# Answer 7\n",
    "num = 10\n",
    "while num > 0:\n",
    "    print(num)\n",
    "    num = num-1\n",
    "    "
   ]
  },
  {
   "cell_type": "code",
   "execution_count": 10,
   "id": "017e2aaa",
   "metadata": {},
   "outputs": [
    {
     "name": "stdout",
     "output_type": "stream",
     "text": [
      "10\n",
      "9\n",
      "8\n",
      "7\n",
      "6\n",
      "5\n",
      "4\n",
      "3\n",
      "2\n",
      "1\n"
     ]
    }
   ],
   "source": [
    "# Answer 8\n",
    "num = 10\n",
    "while num > 0:\n",
    "    print(num)\n",
    "    num = num-1"
   ]
  },
  {
   "cell_type": "code",
   "execution_count": null,
   "id": "50bc8184",
   "metadata": {},
   "outputs": [],
   "source": []
  }
 ],
 "metadata": {
  "kernelspec": {
   "display_name": "Python 3 (ipykernel)",
   "language": "python",
   "name": "python3"
  },
  "language_info": {
   "codemirror_mode": {
    "name": "ipython",
    "version": 3
   },
   "file_extension": ".py",
   "mimetype": "text/x-python",
   "name": "python",
   "nbconvert_exporter": "python",
   "pygments_lexer": "ipython3",
   "version": "3.9.13"
  }
 },
 "nbformat": 4,
 "nbformat_minor": 5
}

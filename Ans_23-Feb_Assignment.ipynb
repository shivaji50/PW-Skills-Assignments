{
 "cells": [
  {
   "cell_type": "code",
   "execution_count": 1,
   "id": "2b9a609d",
   "metadata": {},
   "outputs": [
    {
     "data": {
      "text/plain": [
       "0     4\n",
       "1     8\n",
       "2    15\n",
       "3    16\n",
       "4    23\n",
       "5    42\n",
       "dtype: int64"
      ]
     },
     "execution_count": 1,
     "metadata": {},
     "output_type": "execute_result"
    }
   ],
   "source": [
    "# Answer 1\n",
    "\n",
    "import pandas as pd\n",
    "data=[4,8,15,16,23,42]\n",
    "df = pd.Series(data)\n",
    "df\n"
   ]
  },
  {
   "cell_type": "code",
   "execution_count": 2,
   "id": "3cb20046",
   "metadata": {},
   "outputs": [
    {
     "data": {
      "text/plain": [
       "0     1\n",
       "1     2\n",
       "2     3\n",
       "3     4\n",
       "4     5\n",
       "5     6\n",
       "6     7\n",
       "7     8\n",
       "8     9\n",
       "9    10\n",
       "dtype: int64"
      ]
     },
     "execution_count": 2,
     "metadata": {},
     "output_type": "execute_result"
    }
   ],
   "source": [
    "# Answer 2\n",
    "data=[1,2,3,4,5,6,7,8,9,10]\n",
    "df = pd.Series(data)\n",
    "df"
   ]
  },
  {
   "cell_type": "code",
   "execution_count": 4,
   "id": "36461287",
   "metadata": {},
   "outputs": [
    {
     "name": "stdout",
     "output_type": "stream",
     "text": [
      "     name age  gender\n",
      "0   Alice  25  female\n",
      "1     Bob  30    male\n",
      "2  Claire  27  female\n"
     ]
    }
   ],
   "source": [
    "# Answer 3\n",
    "data={'name':['Alice','Bob','Claire'],'age':['25','30','27'],'gender':['female','male','female']}\n",
    "df=pd.DataFrame(data)\n",
    "print(df)"
   ]
  },
  {
   "cell_type": "code",
   "execution_count": 6,
   "id": "77e33d42",
   "metadata": {},
   "outputs": [
    {
     "name": "stdout",
     "output_type": "stream",
     "text": [
      "Series:\n",
      "0    1\n",
      "1    2\n",
      "2    3\n",
      "3    4\n",
      "4    5\n",
      "dtype: int64\n",
      "DataFrame:\n",
      "     name age  gender\n",
      "0   Alice  25  female\n",
      "1     Bob  30    male\n",
      "2  Claire  27  female\n"
     ]
    }
   ],
   "source": [
    "# Answer 4\n",
    "# Dataframe is two-dimensional labeled data structure with columns of potentially different\n",
    "# types.Its similar to spreadsheet or a Sql table.\n",
    "# Each column in a DataFrame is a Pandas Series,but a DataFrame can have multiple columns,\n",
    "# whereas a Series can only have one.\n",
    "\n",
    "s=pd.Series([1,2,3,4,5])\n",
    "df=pd.DataFrame({'name':['Alice','Bob','Claire'],'age':['25','30','27'],'gender':['female','male','female']})\n",
    "print('Series:')\n",
    "print(s)\n",
    "print('DataFrame:')\n",
    "print(df)"
   ]
  },
  {
   "cell_type": "code",
   "execution_count": 7,
   "id": "4026a78c",
   "metadata": {},
   "outputs": [],
   "source": [
    "# Answer 5\n",
    "\n",
    "# 1.head(): this function can be used to display 1st 5 records\n",
    "# 2.tail(): this function can be used to display last 5 records\n",
    "# 3.type(): this fuction is use to show type \n",
    "# 4.sort_values():This function is used to sort the DataFrame by one or more columns.\n",
    "# 5.fillna():This function is used to fill missing values in the DataFrame with a specified value or method."
   ]
  },
  {
   "cell_type": "code",
   "execution_count": 8,
   "id": "0d53f297",
   "metadata": {},
   "outputs": [],
   "source": [
    "# Answer 6\n",
    "\n",
    "# Series DataFrame are mutable\n",
    "# Panel immutable in nature"
   ]
  },
  {
   "cell_type": "code",
   "execution_count": 9,
   "id": "6d7c703e",
   "metadata": {},
   "outputs": [
    {
     "name": "stdout",
     "output_type": "stream",
     "text": [
      "      name  age gender\n",
      "0  BHAVANA   21      F\n",
      "1    SHIVA   32      M\n",
      "2  SHUBHAM   18      M\n",
      "3   PRASAD   47      M\n",
      "4     SUDO   29      M\n"
     ]
    }
   ],
   "source": [
    "# Answer 7\n",
    "\n",
    "names = pd.Series(['BHAVANA', 'SHIVA', 'SHUBHAM', 'PRASAD', 'SUDO'])\n",
    "ages = pd.Series([21, 32, 18, 47, 29])\n",
    "genders = pd.Series(['F', 'M', 'M', 'M', 'M'])\n",
    "data={'name':names,'age':ages,'gender':genders}\n",
    "df=pd.DataFrame(data)\n",
    "print(df)\n"
   ]
  },
  {
   "cell_type": "code",
   "execution_count": null,
   "id": "112f7e72",
   "metadata": {},
   "outputs": [],
   "source": []
  }
 ],
 "metadata": {
  "kernelspec": {
   "display_name": "Python 3 (ipykernel)",
   "language": "python",
   "name": "python3"
  },
  "language_info": {
   "codemirror_mode": {
    "name": "ipython",
    "version": 3
   },
   "file_extension": ".py",
   "mimetype": "text/x-python",
   "name": "python",
   "nbconvert_exporter": "python",
   "pygments_lexer": "ipython3",
   "version": "3.9.13"
  }
 },
 "nbformat": 4,
 "nbformat_minor": 5
}

{
 "cells": [
  {
   "cell_type": "code",
   "execution_count": 1,
   "id": "c56a9217",
   "metadata": {},
   "outputs": [
    {
     "name": "stdout",
     "output_type": "stream",
     "text": [
      "Hello my name is Shivaji\n"
     ]
    }
   ],
   "source": [
    "# Answer 1\n",
    "\n",
    "# A class is a user-defined blueprint or prototype from which objects are created.\n",
    "# Classes provide a means of bundling data and functionality together. \n",
    "# Creating a new class creates a new type of object, allowing new instances of that type to be made. \n",
    "# Each class instance can have attributes attached to it for maintaining its state. \n",
    "# Class instances can also have methods (defined by their class) for modifying their state.\n",
    "\n",
    "\n",
    "class Person:\n",
    "    def __init__(self, name, age):\n",
    "        self.name = name\n",
    "        self.age = age\n",
    "\n",
    "    def myfunc(self):\n",
    "        print(\"Hello my name is \" + self.name)\n",
    "\n",
    "p1 = Person(\"Shivaji\", 22)\n",
    "p1.myfunc()\n",
    "\n"
   ]
  },
  {
   "cell_type": "code",
   "execution_count": 2,
   "id": "7e2c9212",
   "metadata": {},
   "outputs": [],
   "source": [
    "# Answer 2\n",
    "\n",
    "#1 Encapsulation\n",
    "\n",
    "#2 Abstraction\n",
    "\n",
    "#3 Inheritance\n",
    "\n",
    "#4 Polymorphism"
   ]
  },
  {
   "cell_type": "code",
   "execution_count": 3,
   "id": "3de0f168",
   "metadata": {},
   "outputs": [],
   "source": [
    "# Answer 3\n",
    "\n",
    "#In Python, the __init__() function is used as a constructor method for initializing a newly created object. \n",
    "#It is called when an object is created from a class and is used to set initial \n",
    "# values of instance variables or attributes.\n",
    "\n",
    "class Person:\n",
    "    def __init__(self, name, age):\n",
    "        self.name = name\n",
    "        self.age = age"
   ]
  },
  {
   "cell_type": "code",
   "execution_count": 4,
   "id": "be36654e",
   "metadata": {},
   "outputs": [],
   "source": [
    "# Answer 4\n",
    "\n",
    "# When we create an object from a class, the self parameter in the class methods refers to that object. \n",
    "# It allows the object to access its own attributes and methods. \n",
    "# we can think of self as a way for objects to refer to themselves.\n",
    "# It is used to reference the instance of the class and to access its attributes and methods inside a class."
   ]
  },
  {
   "cell_type": "code",
   "execution_count": 10,
   "id": "c7c762f6",
   "metadata": {},
   "outputs": [
    {
     "name": "stdout",
     "output_type": "stream",
     "text": [
      "This is parents class function\n",
      "This is child class function\n",
      "\n",
      "This is class A function\n",
      "This is class B function\n",
      "This is class C function\n",
      "\n",
      "This is class A function\n",
      "This is class B function\n",
      "This is class A function\n",
      "This is class B function\n"
     ]
    }
   ],
   "source": [
    "# Answer 5\n",
    "\n",
    "# allows a new class to be based on an existing class. \n",
    "# The new class inherits all the properties of the existing class and can also add its own properties or methods.\n",
    "\n",
    "# In Python, there are three types of inheritance: single, multiple, and multilevel inheritance.\n",
    "\n",
    "# Singlevel Inheritance\n",
    "\n",
    "class parents:\n",
    "    def fun1(self):\n",
    "        print(\"This is parents class function\")\n",
    "        \n",
    "class child(parents):\n",
    "    def fun2(self):\n",
    "        print(\"This is child class function\")\n",
    "        \n",
    "ob = child()\n",
    "ob.fun1()\n",
    "ob.fun2()\n",
    "\n",
    "print()\n",
    "# Multiple Inheritance\n",
    "\n",
    "class A:\n",
    "    def funA(self):\n",
    "        print(\"This is class A function\")\n",
    "        \n",
    "class B:\n",
    "    def funB(self):\n",
    "        print(\"This is class B function\") \n",
    "        \n",
    "\n",
    "class C(A,B):\n",
    "    def funC(self):\n",
    "        print(\"This is class C function\") \n",
    "        \n",
    "    \n",
    "    \n",
    "obm = C()\n",
    "obm.funA()\n",
    "obm.funB()\n",
    "obm.funC()\n",
    "\n",
    "print()\n",
    "# Mutileve Inheritance\n",
    "\n",
    "class A:\n",
    "    def funA(self):\n",
    "        print(\"This is class A function\")\n",
    "        \n",
    "class B(A):\n",
    "    def funB(self):\n",
    "        print(\"This is class B function\") \n",
    "        \n",
    "\n",
    "class C(B):\n",
    "    def funC(self):\n",
    "        print(\"This is class C function\") \n",
    "        \n",
    "obj1 = B()\n",
    "obj2 = C()\n",
    "obj1.funA()\n",
    "obj1.funB()\n",
    "obj2.funA()\n",
    "obj2.funB()\n",
    "    \n",
    "        \n",
    "        "
   ]
  },
  {
   "cell_type": "code",
   "execution_count": null,
   "id": "9d9f38b9",
   "metadata": {},
   "outputs": [],
   "source": []
  }
 ],
 "metadata": {
  "kernelspec": {
   "display_name": "Python 3 (ipykernel)",
   "language": "python",
   "name": "python3"
  },
  "language_info": {
   "codemirror_mode": {
    "name": "ipython",
    "version": 3
   },
   "file_extension": ".py",
   "mimetype": "text/x-python",
   "name": "python",
   "nbconvert_exporter": "python",
   "pygments_lexer": "ipython3",
   "version": "3.9.13"
  }
 },
 "nbformat": 4,
 "nbformat_minor": 5
}

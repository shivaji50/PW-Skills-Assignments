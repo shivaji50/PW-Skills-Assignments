{
 "cells": [
  {
   "cell_type": "code",
   "execution_count": 2,
   "id": "311bf3b5",
   "metadata": {},
   "outputs": [
    {
     "name": "stdout",
     "output_type": "stream",
     "text": [
      "Enter the number 36\n",
      "9\n",
      "Enter the number 10\n",
      "10  *  1  =  10\n",
      "10  *  2  =  20\n",
      "10  *  3  =  30\n",
      "10  *  4  =  40\n",
      "10  *  5  =  50\n",
      "10  *  6  =  60\n",
      "10  *  7  =  70\n",
      "10  *  8  =  80\n",
      "10  *  9  =  90\n",
      "10  *  10  =  100\n"
     ]
    }
   ],
   "source": [
    "# Answer 1\n",
    "\n",
    "# A \"While\" Loop is used to repeat a specific block of code an unknown number of times, \n",
    "# until a condition is met.\n",
    "# For example if we dont no how Many times the block need to be executed until its meets its certain \n",
    "# criteria. \n",
    "# like how many times a given number can be divided by 3 before it is less than or equal to 10\n",
    "# so for number like 18 we know the answer is 3 but for bigger number its is very difficult to say in\n",
    "# such cases we use while loop in python\n",
    "\n",
    "# eg---\n",
    "\n",
    "number = int(input(\"Enter the number \"))\n",
    "count = 0\n",
    "\n",
    "while number >= 10:\n",
    "    if number%3 == 0:\n",
    "        count = count+1\n",
    "    number = number - 1\n",
    "    \n",
    "print(count)    \n",
    "\n",
    "# A \"For\" Loop is used to repeat a specific block of code known number of times, \n",
    "# until a condition is met.\n",
    "# eg---\n",
    "# As we want our loop to repeat specific number of time to print the table that is 10 times\n",
    "\n",
    "num = int(input(\"Enter the number \"))\n",
    "\n",
    "for i in range(1,11):\n",
    "    print(num,\" * \",i,\" = \",num*i)"
   ]
  },
  {
   "cell_type": "code",
   "execution_count": 3,
   "id": "95466401",
   "metadata": {},
   "outputs": [
    {
     "name": "stdout",
     "output_type": "stream",
     "text": [
      "55\n",
      "3628800\n",
      "55\n",
      "3628800\n"
     ]
    }
   ],
   "source": [
    "# Answer 2\n",
    "# using for loop\n",
    "\n",
    "sum = 0\n",
    "product = 1\n",
    "\n",
    "for i in range(1,11):\n",
    "    sum = sum + i\n",
    "    product = product * i\n",
    "    \n",
    "print(sum)\n",
    "print(product)\n",
    "\n",
    "# using while loop\n",
    "\n",
    "sum = 0\n",
    "product = 1\n",
    "i = 1\n",
    "\n",
    "while i <=10:\n",
    "    sum = sum + i\n",
    "    product = product * i\n",
    "    i = i+1\n",
    "    \n",
    "print(sum)\n",
    "print(product)"
   ]
  },
  {
   "cell_type": "code",
   "execution_count": 6,
   "id": "4cd5ef94",
   "metadata": {},
   "outputs": [
    {
     "name": "stdout",
     "output_type": "stream",
     "text": [
      "Enter the unit 310\n",
      "2250\n"
     ]
    }
   ],
   "source": [
    "# Answer 3\n",
    "\n",
    "unit = int(input(\"Enter the unit \"))\n",
    "bill = 0\n",
    "\n",
    "if unit > 0 and unit <=100:\n",
    "    bill = unit*4.5\n",
    "elif unit > 100 and unit <=200:\n",
    "    bill = (100 * 4.5) + ((unit - 100) * 6)\n",
    "elif unit > 200 and unit <=300:\n",
    "    bill = (100 * 4.5) + (100 * 6) + ((unit - 200 )* 10)\n",
    "elif unit > 300 and unit <=400:\n",
    "    bill = (100 * 4.5) + (100 * 6) + (100 * 10) + ((unit - 300) * 20)\n",
    "    \n",
    "print(int(bill))    \n",
    "    "
   ]
  },
  {
   "cell_type": "code",
   "execution_count": 7,
   "id": "5d94cfe0",
   "metadata": {},
   "outputs": [
    {
     "name": "stdout",
     "output_type": "stream",
     "text": [
      "Using for loop  [2, 4, 5, 6, 8, 10, 12, 14, 15, 16, 18, 20, 22, 24, 25, 26, 28, 30, 32, 34, 35, 36, 38, 40, 42, 44, 45, 46, 48, 50, 52, 54, 55, 56, 58, 60, 62, 64, 65, 66, 68, 70, 72, 74, 75, 76, 78, 80, 82, 84, 85, 86, 88, 90, 92, 94, 95, 96, 98, 100]\n",
      "\n",
      "Using while loop  [2, 4, 5, 6, 8, 10, 12, 14, 15, 16, 18, 20, 22, 24, 25, 26, 28, 30, 32, 34, 35, 36, 38, 40, 42, 44, 45, 46, 48, 50, 52, 54, 55, 56, 58, 60, 62, 64, 65, 66, 68, 70, 72, 74, 75, 76, 78, 80, 82, 84, 85, 86, 88, 90, 92, 94, 95, 96, 98, 100]\n"
     ]
    }
   ],
   "source": [
    "# Answer 4\n",
    "\n",
    "# Using for loop\n",
    "\n",
    "l =[i for i in range(1,101)]\n",
    "newL = []\n",
    "\n",
    "for i in l:\n",
    "    cube = i**3\n",
    "    if cube % 4 ==0 or cube % 5 ==0:\n",
    "        newL.append(i)\n",
    "        \n",
    "print(\"Using for loop \",newL)\n",
    "\n",
    "print()\n",
    "# using while loop\n",
    "i = 0\n",
    "l =[i for i in range(1,101)]\n",
    "newL = []  \n",
    "\n",
    "while i < len(l):\n",
    "    cube = l[i]**3\n",
    "    if cube % 4 ==0 or cube % 5 ==0:\n",
    "        newL.append(l[i])\n",
    "    i = i+1    \n",
    "        \n",
    "print(\"Using while loop \",newL)\n",
    "        \n",
    "\n"
   ]
  },
  {
   "cell_type": "code",
   "execution_count": 8,
   "id": "cccfbf5b",
   "metadata": {},
   "outputs": [
    {
     "name": "stdout",
     "output_type": "stream",
     "text": [
      "12\n"
     ]
    }
   ],
   "source": [
    "# Answer 5\n",
    "\n",
    "string = \"I want to become a data scientist\"\n",
    "cnt = 0\n",
    "\n",
    "for i in string:\n",
    "    if \"aeiouAEIOU\".count(i) == 1:\n",
    "        cnt = cnt + 1\n",
    "        \n",
    "print(cnt)"
   ]
  },
  {
   "cell_type": "code",
   "execution_count": null,
   "id": "c3c92831",
   "metadata": {},
   "outputs": [],
   "source": []
  }
 ],
 "metadata": {
  "kernelspec": {
   "display_name": "Python 3 (ipykernel)",
   "language": "python",
   "name": "python3"
  },
  "language_info": {
   "codemirror_mode": {
    "name": "ipython",
    "version": 3
   },
   "file_extension": ".py",
   "mimetype": "text/x-python",
   "name": "python",
   "nbconvert_exporter": "python",
   "pygments_lexer": "ipython3",
   "version": "3.9.13"
  }
 },
 "nbformat": 4,
 "nbformat_minor": 5
}

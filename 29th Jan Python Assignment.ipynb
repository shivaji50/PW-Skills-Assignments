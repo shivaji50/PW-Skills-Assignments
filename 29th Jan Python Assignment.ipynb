{
 "cells": [
  {
   "cell_type": "code",
   "execution_count": null,
   "id": "2afcfec5",
   "metadata": {},
   "outputs": [],
   "source": [
    "Ans 1— Gudio Van Rossum.\n",
    "\n",
    "Ans 2— Python supports object oriented, Structural and functional programming.\n",
    "\n",
    "Ans 3— Yes, Python is case sensitive.\n",
    "\n",
    "Ans 4— .py\t\n",
    "\n",
    "Ans 5— It is both compiled and interpreted.\n",
    "\n",
    "Ans 6— Moduels, Function, Class\n",
    "\n",
    "Ans 7—  #\n",
    "\n",
    "Ans 8— python_version()\n",
    "\n",
    "Ans 9- lambda\n",
    "\n",
    "Ans 10- preferred installer program\n",
    "\n",
    "Ans 11- append(),count(),len(),reverse(),pop(),remove()\n",
    "\n",
    "Ans 12- 79 characters\n",
    "\n",
    "Ans 13- Easy to Read, Learn and Write, Vast Libraries Support, Portability, etc\n",
    "\n",
    "Ans 14- Memory management in Python involves a private heap containing all Python objects and data structures. \n",
    "        The management of this private heap is ensured internally by the Python memory manager\n",
    "\n",
    "Ans 15- I use mac machine\n",
    "\n",
    "Ans 16- Yes"
   ]
  }
 ],
 "metadata": {
  "kernelspec": {
   "display_name": "Python 3 (ipykernel)",
   "language": "python",
   "name": "python3"
  },
  "language_info": {
   "codemirror_mode": {
    "name": "ipython",
    "version": 3
   },
   "file_extension": ".py",
   "mimetype": "text/x-python",
   "name": "python",
   "nbconvert_exporter": "python",
   "pygments_lexer": "ipython3",
   "version": "3.9.13"
  }
 },
 "nbformat": 4,
 "nbformat_minor": 5
}
